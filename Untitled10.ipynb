{
 "cells": [
  {
   "cell_type": "code",
   "execution_count": 1,
   "id": "0debe302",
   "metadata": {},
   "outputs": [],
   "source": [
    "import re"
   ]
  },
  {
   "cell_type": "code",
   "execution_count": 2,
   "id": "34515abd",
   "metadata": {},
   "outputs": [],
   "source": [
    "text = 'this is a good boy'"
   ]
  },
  {
   "cell_type": "code",
   "execution_count": 8,
   "id": "b4ca854e",
   "metadata": {},
   "outputs": [
    {
     "name": "stdout",
     "output_type": "stream",
     "text": [
      "wonderful\n"
     ]
    }
   ],
   "source": [
    "if re.search('good', text):\n",
    "    print('wonderful')\n",
    "else:\n",
    "    print('alas!')"
   ]
  },
  {
   "cell_type": "code",
   "execution_count": 9,
   "id": "32f59678",
   "metadata": {},
   "outputs": [],
   "source": [
    "text = \"Amy works diligently. Amy gets good grades. Our student Amy is succesful.\""
   ]
  },
  {
   "cell_type": "code",
   "execution_count": 10,
   "id": "51c520ab",
   "metadata": {},
   "outputs": [
    {
     "data": {
      "text/plain": [
       "['',\n",
       " ' works diligently. ',\n",
       " ' gets good grades. Our student ',\n",
       " ' is succesful.']"
      ]
     },
     "execution_count": 10,
     "metadata": {},
     "output_type": "execute_result"
    }
   ],
   "source": [
    "re.split('Amy', text)"
   ]
  },
  {
   "cell_type": "code",
   "execution_count": 11,
   "id": "a1126ec7",
   "metadata": {},
   "outputs": [
    {
     "data": {
      "text/plain": [
       "['Amy', 'Amy', 'Amy']"
      ]
     },
     "execution_count": 11,
     "metadata": {},
     "output_type": "execute_result"
    }
   ],
   "source": [
    "re.findall('Amy', text)"
   ]
  },
  {
   "cell_type": "code",
   "execution_count": 12,
   "id": "c0655a8e",
   "metadata": {},
   "outputs": [
    {
     "data": {
      "text/plain": [
       "<re.Match object; span=(0, 3), match='Amy'>"
      ]
     },
     "execution_count": 12,
     "metadata": {},
     "output_type": "execute_result"
    }
   ],
   "source": [
    "re.search('^Amy',text)"
   ]
  },
  {
   "cell_type": "code",
   "execution_count": 13,
   "id": "7b1e4250",
   "metadata": {},
   "outputs": [],
   "source": [
    "# Let's talk more about patterns and start with character classes. Let's create a string of a single learners'\n",
    "# grades over a semester in one course across all of their assignments\n",
    "grades=\"ACAAAABCBCBAA\""
   ]
  },
  {
   "cell_type": "code",
   "execution_count": 16,
   "id": "e49e151e",
   "metadata": {},
   "outputs": [
    {
     "data": {
      "text/plain": [
       "['C', 'C', 'C']"
      ]
     },
     "execution_count": 16,
     "metadata": {},
     "output_type": "execute_result"
    }
   ],
   "source": [
    "re.findall('C',grades)"
   ]
  },
  {
   "cell_type": "code",
   "execution_count": 17,
   "id": "a7549c01",
   "metadata": {},
   "outputs": [
    {
     "data": {
      "text/plain": [
       "['A', 'A', 'A', 'A', 'A', 'B', 'B', 'B', 'A', 'A']"
      ]
     },
     "execution_count": 17,
     "metadata": {},
     "output_type": "execute_result"
    }
   ],
   "source": [
    "re.findall('[AB]',grades)"
   ]
  },
  {
   "cell_type": "code",
   "execution_count": 20,
   "id": "c72e8347",
   "metadata": {},
   "outputs": [
    {
     "data": {
      "text/plain": [
       "['AC', 'AB']"
      ]
     },
     "execution_count": 20,
     "metadata": {},
     "output_type": "execute_result"
    }
   ],
   "source": [
    "re.findall('[A][B-C]',grades)"
   ]
  },
  {
   "cell_type": "code",
   "execution_count": 21,
   "id": "4ec4394e",
   "metadata": {},
   "outputs": [
    {
     "data": {
      "text/plain": [
       "['AC', 'AB']"
      ]
     },
     "execution_count": 21,
     "metadata": {},
     "output_type": "execute_result"
    }
   ],
   "source": [
    "re.findall('AC|AB', grades)"
   ]
  },
  {
   "cell_type": "code",
   "execution_count": 22,
   "id": "064167cf",
   "metadata": {},
   "outputs": [
    {
     "data": {
      "text/plain": [
       "['C', 'B', 'C', 'B', 'C', 'B']"
      ]
     },
     "execution_count": 22,
     "metadata": {},
     "output_type": "execute_result"
    }
   ],
   "source": [
    "re.findall('[^A]',grades)"
   ]
  },
  {
   "cell_type": "code",
   "execution_count": 23,
   "id": "dd9dfe08",
   "metadata": {},
   "outputs": [
    {
     "data": {
      "text/plain": [
       "[]"
      ]
     },
     "execution_count": 23,
     "metadata": {},
     "output_type": "execute_result"
    }
   ],
   "source": [
    "re.findall('^[^A]',grades)"
   ]
  },
  {
   "cell_type": "code",
   "execution_count": 24,
   "id": "a6a79da4",
   "metadata": {},
   "outputs": [
    {
     "data": {
      "text/plain": [
       "['AAAA', 'AA']"
      ]
     },
     "execution_count": 24,
     "metadata": {},
     "output_type": "execute_result"
    }
   ],
   "source": [
    "re.findall('A{2,10}',grades)"
   ]
  },
  {
   "cell_type": "code",
   "execution_count": 26,
   "id": "d1647368",
   "metadata": {},
   "outputs": [
    {
     "data": {
      "text/plain": [
       "['AA', 'AA', 'AA']"
      ]
     },
     "execution_count": 26,
     "metadata": {},
     "output_type": "execute_result"
    }
   ],
   "source": [
    "re.findall('A{1,1}A{1,1}',grades)"
   ]
  },
  {
   "cell_type": "code",
   "execution_count": 28,
   "id": "ae6d1ff4",
   "metadata": {},
   "outputs": [
    {
     "data": {
      "text/plain": [
       "[]"
      ]
     },
     "execution_count": 28,
     "metadata": {},
     "output_type": "execute_result"
    }
   ],
   "source": [
    "re.findall('A{2, 2}',grades)"
   ]
  },
  {
   "cell_type": "code",
   "execution_count": 29,
   "id": "b487835f",
   "metadata": {},
   "outputs": [
    {
     "data": {
      "text/plain": [
       "['AA', 'AA', 'AA']"
      ]
     },
     "execution_count": 29,
     "metadata": {},
     "output_type": "execute_result"
    }
   ],
   "source": [
    "re.findall('AA',grades)"
   ]
  },
  {
   "cell_type": "code",
   "execution_count": 30,
   "id": "44d55792",
   "metadata": {},
   "outputs": [
    {
     "data": {
      "text/plain": [
       "['AAAABC']"
      ]
     },
     "execution_count": 30,
     "metadata": {},
     "output_type": "execute_result"
    }
   ],
   "source": [
    "re.findall('A{1,10}B{1,10}C{1,10}',grades)"
   ]
  },
  {
   "cell_type": "code",
   "execution_count": 31,
   "id": "318f2d56",
   "metadata": {},
   "outputs": [
    {
     "data": {
      "text/plain": [
       "'ACAAAABCBCBAA'"
      ]
     },
     "execution_count": 31,
     "metadata": {},
     "output_type": "execute_result"
    }
   ],
   "source": [
    "grades"
   ]
  },
  {
   "cell_type": "code",
   "execution_count": 40,
   "id": "536e0244",
   "metadata": {},
   "outputs": [
    {
     "ename": "FileNotFoundError",
     "evalue": "[Errno 2] No such file or directory: 'datasets/ferpa.txt'",
     "output_type": "error",
     "traceback": [
      "\u001b[1;31m---------------------------------------------------------------------------\u001b[0m",
      "\u001b[1;31mFileNotFoundError\u001b[0m                         Traceback (most recent call last)",
      "\u001b[1;32m~\\AppData\\Local\\Temp\\ipykernel_5264\\1147822253.py\u001b[0m in \u001b[0;36m<module>\u001b[1;34m\u001b[0m\n\u001b[1;32m----> 1\u001b[1;33m \u001b[1;32mwith\u001b[0m \u001b[0mopen\u001b[0m\u001b[1;33m(\u001b[0m\u001b[1;34m\"datasets/ferpa.txt\"\u001b[0m\u001b[1;33m,\u001b[0m\u001b[1;34m\"r\"\u001b[0m\u001b[1;33m)\u001b[0m \u001b[1;32mas\u001b[0m \u001b[0mfile\u001b[0m\u001b[1;33m:\u001b[0m\u001b[1;33m\u001b[0m\u001b[1;33m\u001b[0m\u001b[0m\n\u001b[0m\u001b[0;32m      2\u001b[0m     \u001b[0mwiki\u001b[0m\u001b[1;33m=\u001b[0m\u001b[0mfile\u001b[0m\u001b[1;33m.\u001b[0m\u001b[0mread\u001b[0m\u001b[1;33m(\u001b[0m\u001b[1;33m)\u001b[0m\u001b[1;33m\u001b[0m\u001b[1;33m\u001b[0m\u001b[0m\n",
      "\u001b[1;31mFileNotFoundError\u001b[0m: [Errno 2] No such file or directory: 'datasets/ferpa.txt'"
     ]
    }
   ],
   "source": [
    "with open(\"datasets/ferpa.txt\",\"r\") as file:\n",
    "    wiki=file.read()"
   ]
  },
  {
   "cell_type": "code",
   "execution_count": 38,
   "id": "1f23ee58",
   "metadata": {},
   "outputs": [
    {
     "ename": "IndentationError",
     "evalue": "expected an indented block (2526944751.py, line 1)",
     "output_type": "error",
     "traceback": [
      "\u001b[1;36m  File \u001b[1;32m\"C:\\Users\\qw\\AppData\\Local\\Temp\\ipykernel_5264\\2526944751.py\"\u001b[1;36m, line \u001b[1;32m1\u001b[0m\n\u001b[1;33m    with open(\"datasets/ferpa.txt\",\"r\") as file:\u001b[0m\n\u001b[1;37m                                                ^\u001b[0m\n\u001b[1;31mIndentationError\u001b[0m\u001b[1;31m:\u001b[0m expected an indented block\n"
     ]
    }
   ],
   "source": []
  },
  {
   "cell_type": "code",
   "execution_count": null,
   "id": "e4877d38",
   "metadata": {},
   "outputs": [],
   "source": []
  }
 ],
 "metadata": {
  "kernelspec": {
   "display_name": "Python 3 (ipykernel)",
   "language": "python",
   "name": "python3"
  },
  "language_info": {
   "codemirror_mode": {
    "name": "ipython",
    "version": 3
   },
   "file_extension": ".py",
   "mimetype": "text/x-python",
   "name": "python",
   "nbconvert_exporter": "python",
   "pygments_lexer": "ipython3",
   "version": "3.9.13"
  }
 },
 "nbformat": 4,
 "nbformat_minor": 5
}
