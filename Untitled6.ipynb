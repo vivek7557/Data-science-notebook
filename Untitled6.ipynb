{
 "cells": [
  {
   "cell_type": "code",
   "execution_count": null,
   "id": "7857af49",
   "metadata": {},
   "outputs": [],
   "source": [
    "path= String indicating filesystem location, URL, or file-like object\n",
    "sep or delimiter= Character sequence or regular expression to use to split fields in each row\n",
    "header= Row number to use as column names; defaults to 0 (first row), but should be None if there is no\n",
    "header row\n",
    "index_col= Column numbers or names to use as the row index in the result; can be a single name/number or a\n",
    "list of them for a hierarchical index\n",
    "names= List of column names for result, combine with header=None"
   ]
  },
  {
   "cell_type": "code",
   "execution_count": null,
   "id": "ee6dfb4d",
   "metadata": {},
   "outputs": [],
   "source": [
    "skiprows= Number of rows at beginning of file to ignore or list of row numbers (starting from 0) to skip.\n",
    "na_values =Sequence of values to replace with NA.\n",
    "comment= Character(s) to split comments off the end of lines.\n",
    "parse_dates= Attempt to parse data to datetime; False by default. If True, will attempt to parse all columns.\n",
    "Otherwise can specify a list of column numbers or name to parse. If element of list is tuple or list, will\n",
    "combine multiple columns together and parse to date (e.g., if date/time split across two columns).\n",
    "keep_date_col= If joining columns to parse date, keep the joined columns; False by default.\n",
    "converters =Dict containing column number of name mapping to functions (e.g., {'foo': f} would apply the\n",
    "function f to all values in the 'foo' column).\n",
    "dayfirst= When parsing potentially ambiguous dates, treat as international format (e.g., 7/6/2012 -> June 7,\n",
    "2012); False by default.\n",
    "date_parser =Function to use to parse dates.\n",
    "nrows= Number of rows to read from beginning of file.\n",
    "iterator= Return a TextParser object for reading file piecemeal.\n",
    "chunksize= For iteration, size of file chunks.\n",
    "skip_footer= Number of lines to ignore at end of file.\n",
    "verbose= Print various parser output information, like the number of missing values placed in non-numeric\n",
    "columns.\n",
    "encoding= Text encoding for Unicode (e.g., 'utf-8' for UTF-8 encoded text).\n",
    "squeeze =If the parsed data only contains one column, return a Series.\n",
    "thousands= Separator for thousands (e.g., ',' or '.')."
   ]
  }
 ],
 "metadata": {
  "kernelspec": {
   "display_name": "Python 3 (ipykernel)",
   "language": "python",
   "name": "python3"
  },
  "language_info": {
   "codemirror_mode": {
    "name": "ipython",
    "version": 3
   },
   "file_extension": ".py",
   "mimetype": "text/x-python",
   "name": "python",
   "nbconvert_exporter": "python",
   "pygments_lexer": "ipython3",
   "version": "3.9.13"
  }
 },
 "nbformat": 4,
 "nbformat_minor": 5
}
