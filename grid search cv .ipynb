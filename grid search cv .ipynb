{
 "cells": [
  {
   "cell_type": "markdown",
   "id": "31160ee4",
   "metadata": {},
   "source": [
    "### model selection using evaluation metrics"
   ]
  },
  {
   "cell_type": "markdown",
   "id": "ad0ddd61",
   "metadata": {},
   "source": [
    "#### cross validation score"
   ]
  },
  {
   "cell_type": "code",
   "execution_count": 1,
   "id": "e3db886f",
   "metadata": {},
   "outputs": [],
   "source": [
    "from sklearn.model_selection import cross_val_score\n",
    "from sklearn.svm import SVC"
   ]
  },
  {
   "cell_type": "code",
   "execution_count": 2,
   "id": "4aa4b7ea",
   "metadata": {},
   "outputs": [
    {
     "name": "stdout",
     "output_type": "stream",
     "text": [
      "cross validation score(accoracy) [0.91944444 0.98611111 0.97214485 0.97493036 0.96935933]\n",
      "cross validation score(roc_auc) [0.9641871  0.9976571  0.99372205 0.99699002 0.98675611]\n",
      "cross validation score(recall) [0.81081081 0.89189189 0.83333333 0.83333333 0.83333333]\n"
     ]
    }
   ],
   "source": [
    "from sklearn.datasets import load_digits\n",
    "datasets = load_digits()\n",
    "X, y = datasets.data, datasets.target == 1\n",
    "clf = SVC(kernel='linear',C=1)\n",
    "\n",
    "print(\"cross validation score(accoracy)\",cross_val_score(clf,X,y,cv=5))\n",
    "print(\"cross validation score(roc_auc)\",cross_val_score(clf,X,y,cv=5,scoring='roc_auc'))\n",
    "print(\"cross validation score(recall)\",cross_val_score(clf,X,y,cv=5,scoring='recall'))"
   ]
  },
  {
   "cell_type": "markdown",
   "id": "aadc48a7",
   "metadata": {},
   "source": [
    "### grid_search example"
   ]
  },
  {
   "cell_type": "code",
   "execution_count": 11,
   "id": "ecbb7afa",
   "metadata": {},
   "outputs": [
    {
     "name": "stdout",
     "output_type": "stream",
     "text": [
      "grib best parameter (max accuracy): {'gamma': 0.001}\n",
      "grid best score (accuracy): 0.9985157648354676\n",
      "test set auc : 0.99982858122393\n",
      "grib best parameter (max roc_auc): {'gamma': 0.001}\n",
      "grid best score (roc_auc): 1.0\n"
     ]
    }
   ],
   "source": [
    "from sklearn.svm import SVC\n",
    "from sklearn.model_selection import GridSearchCV\n",
    "from sklearn.metrics import roc_auc_score\n",
    "from sklearn.model_selection import train_test_split\n",
    "\n",
    "dataset = load_digits()\n",
    "X, y = dataset.data, dataset.target == 1\n",
    "\n",
    "X_train, X_test, y_train, y_test = train_test_split(X, y, random_state=0)\n",
    "\n",
    "clf = SVC(kernel='rbf')\n",
    "grid_values = {'gamma':[0.001, 0.01, 0.05, 0.1, 1, 10, 100]}\n",
    "\n",
    "\n",
    "# default metric to optimize over grid parameters: accuracy\n",
    "\n",
    "grid = GridSearchCV(clf,param_grid=grid_values)\n",
    "grid.fit(X_train,y_train)\n",
    "y_decision_fu_scores_acc = grid.decision_function(X_test)\n",
    "print(\"grib best parameter (max accuracy):\",grid.best_params_)\n",
    "print(\"grid best score (accuracy):\",grid.best_score_)\n",
    "\n",
    "\n",
    "# alternative metric to optimize over grid parameter: auc\n",
    "\n",
    "grid = GridSearchCV(clf,param_grid=grid_values,scoring='roc_auc')\n",
    "grid.fit(X_train,y_train)\n",
    "y_decision_fu_scores_acc = grid.decision_function(X_test)\n",
    "print(\"test set auc :\",roc_auc_score(y_test,y_decision_fu_scores_acc))\n",
    "print(\"grib best parameter (max roc_auc):\",grid.best_params_)\n",
    "print(\"grid best score (roc_auc):\",grid.best_score_)"
   ]
  },
  {
   "cell_type": "code",
   "execution_count": null,
   "id": "21014b6a",
   "metadata": {},
   "outputs": [],
   "source": []
  }
 ],
 "metadata": {
  "kernelspec": {
   "display_name": "Python 3 (ipykernel)",
   "language": "python",
   "name": "python3"
  },
  "language_info": {
   "codemirror_mode": {
    "name": "ipython",
    "version": 3
   },
   "file_extension": ".py",
   "mimetype": "text/x-python",
   "name": "python",
   "nbconvert_exporter": "python",
   "pygments_lexer": "ipython3",
   "version": "3.9.13"
  }
 },
 "nbformat": 4,
 "nbformat_minor": 5
}
